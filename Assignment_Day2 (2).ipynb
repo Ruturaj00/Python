{
 "cells": [
  {
   "cell_type": "markdown",
   "id": "cf4cb4d0-3764-466b-95e7-55c2f3fd6310",
   "metadata": {},
   "source": [
    "WAP to print different vouwels present in the given word -->"
   ]
  },
  {
   "cell_type": "code",
   "execution_count": 17,
   "id": "2024400b-f11b-4f0e-b704-70d52bef6a63",
   "metadata": {},
   "outputs": [
    {
     "name": "stdin",
     "output_type": "stream",
     "text": [
      "Enter a word:  Ruturaj\n"
     ]
    },
    {
     "name": "stdout",
     "output_type": "stream",
     "text": [
      "Vowels present in the word: {'a', 'u'}\n"
     ]
    }
   ],
   "source": [
    "\n",
    "word = input(\"Enter a word: \")\n",
    "vowels = \"aeiou\"\n",
    "found_vowels = set()\n",
    "\n",
    "for char in word.lower():\n",
    "    if char in vowels:\n",
    "        found_vowels.add(char)\n",
    "\n",
    "print(\"Vowels present in the word:\", found_vowels)\n"
   ]
  },
  {
   "cell_type": "markdown",
   "id": "7ba94e56-0ee4-4ad1-87f5-154a69624321",
   "metadata": {},
   "source": [
    "Password Protection -->"
   ]
  },
  {
   "cell_type": "code",
   "execution_count": 7,
   "id": "868b6663-3f0c-4548-a278-d47e0c2b9678",
   "metadata": {},
   "outputs": [
    {
     "name": "stdin",
     "output_type": "stream",
     "text": [
      "Enter the total no.of plots:  9\n"
     ]
    },
    {
     "name": "stdout",
     "output_type": "stream",
     "text": [
      "Enter the numbers of each plot:\n"
     ]
    },
    {
     "name": "stdin",
     "output_type": "stream",
     "text": [
      " 9\n",
      " 8\n",
      " 7\n",
      " 6\n",
      " 5\n",
      " 4\n",
      " 3\n",
      " 2\n",
      " 1\n"
     ]
    },
    {
     "name": "stdout",
     "output_type": "stream",
     "text": [
      "The password for the file is: 22.50\n"
     ]
    }
   ],
   "source": [
    "n = int(input(\"Enter the total no.of plots: \"))\n",
    "if n < 1 or n > 20:\n",
    "    print(\"Invalid Input\")\n",
    "else:\n",
    "    plots = []\n",
    "    valid_input = True\n",
    "    print(\"Enter the numbers of each plot:\")\n",
    "    for i in range(n):\n",
    "        plot = float(input())\n",
    "        if plot <= 0:\n",
    "            valid_input = False\n",
    "            break\n",
    "        plots.append(plot)\n",
    "    if not valid_input:\n",
    "        print(\"Invalid Input\")\n",
    "    else:\n",
    "        even_plots = []\n",
    "        odd_plots = []\n",
    "        for plot in plots:\n",
    "            if plot % 2 == 0:\n",
    "                even_plots.append(plot)\n",
    "            else:\n",
    "                odd_plots.append(plot)\n",
    "                \n",
    "        avg = (sum(even_plots) + sum(odd_plots)) / 2\n",
    "\n",
    "        print(f\"The password for the file is: {avg:.2f}\")\n"
   ]
  },
  {
   "cell_type": "markdown",
   "id": "3a2716eb-5de9-4e01-b555-89b4a23a3fd0",
   "metadata": {},
   "source": [
    "News Report Generation -->"
   ]
  },
  {
   "cell_type": "code",
   "execution_count": 11,
   "id": "9e840395-a20a-4cb0-87e9-34f5798195ca",
   "metadata": {},
   "outputs": [
    {
     "name": "stdin",
     "output_type": "stream",
     "text": [
      "Dead Count:  2000\n",
      "Injured Count:  3000\n",
      "Safe Count:  10000\n"
     ]
    },
    {
     "name": "stdout",
     "output_type": "stream",
     "text": [
      "\n",
      "TSUNAMI REPORT OF JAPAN\n",
      "Number of Dead: 2000\n",
      "Number of Injured: 3000\n",
      "Number of Safe: 10000\n",
      "\n",
      "Please help the people who are suffering!!!\n"
     ]
    }
   ],
   "source": [
    "\n",
    "\n",
    "dead_count = int(input(\"Dead Count: \"))\n",
    "\n",
    "if dead_count < 0:\n",
    "    print(\"Invalid input\")\n",
    "else:\n",
    "  \n",
    "    injured_count = int(input(\"Injured Count: \"))\n",
    "    \n",
    "    \n",
    "    if injured_count < 0:\n",
    "        print(\"Invalid input\")\n",
    "    else:\n",
    "        \n",
    "        safe_count = int(input(\"Safe Count: \"))\n",
    "        \n",
    "        \n",
    "        if safe_count < 0:\n",
    "            print(\"Invalid input\")\n",
    "        else:\n",
    "            print(\"\\nTSUNAMI REPORT OF JAPAN\")\n",
    "            print(f\"Number of Dead: {dead_count}\")\n",
    "            print(f\"Number of Injured: {injured_count}\")\n",
    "            print(f\"Number of Safe: {safe_count}\")\n",
    "            print(\"\\nPlease help the people who are suffering!!!\")"
   ]
  },
  {
   "cell_type": "markdown",
   "id": "f9d9fffd-a26c-489c-9b95-3da56ed9de55",
   "metadata": {},
   "source": [
    "Farewell\n",
    "William studies at a boys' college and his team at college is planning to organize a\n",
    "farewell party for their seniors.  William wants to develop an application to generate  a\n",
    "welcome message to each senior on the screen when they enters senior’s name.   Help\n",
    "William to perform this task  by  creating module in Python.  "
   ]
  },
  {
   "cell_type": "code",
   "execution_count": null,
   "id": "9f0a78d2-fcce-4422-a042-1b24a5fa8cf5",
   "metadata": {},
   "outputs": [],
   "source": [
    "# Need to create greet.py file \n",
    "message = \"Hello\"\n",
    "\n",
    "def greet(name):\n",
    "    print(f\"{message}, {name}! Welcome to the farewell party.\")\n",
    "\n",
    "\n",
    "# in main file we should run this \n",
    "import greet\n",
    "\n",
    "print(greet.__doc__)\n",
    "print(greet.message)\n",
    "\n",
    "name = input(\"Enter the senior's name: \")\n",
    "greet.greet(name)\n",
    "\n",
    "'''\n",
    "\"Below is the output that I copied from spyder IDE\" -->\n",
    "\n",
    "Hello\n",
    "Enter the senior's name: Ruturaj\n",
    "Hello, Ruturaj! Welcome to the farewell party.\n",
    "'''"
   ]
  },
  {
   "cell_type": "markdown",
   "id": "2c15dd4f-9181-47a7-bed4-651a065448a8",
   "metadata": {},
   "source": [
    "Imagine D Iman, a famous music director to be composing a pop album. To create a\n",
    "unique composition, he decides to play only those keys of his instrument (consider\n",
    "every key has a number associated with it) which are divisible by one and itself (i.e.\n",
    "prime numbers). You may help him by writing a program in Python to print all the\n",
    "numbers that represent the keys he will need for his new composition - given the  \n",
    "interval [start,end] (start and end inclusive) within which he chooses the keys.Write a\n",
    "user deGned function to Gnd out the key with prime numbers."
   ]
  },
  {
   "cell_type": "code",
   "execution_count": 13,
   "id": "0ce8a6ca-fdde-4331-a297-dd99f764d931",
   "metadata": {},
   "outputs": [
    {
     "name": "stdin",
     "output_type": "stream",
     "text": [
      "Enter start number:  1\n",
      "Enter end number:  11\n"
     ]
    },
    {
     "name": "stdout",
     "output_type": "stream",
     "text": [
      "235711\n"
     ]
    }
   ],
   "source": [
    "def find_prime(start, end):\n",
    "    if start < 0 or end < 0:\n",
    "        print(\"Invalid range\")\n",
    "        return\n",
    "    if start > end:\n",
    "        print(\"Invalid range\")\n",
    "        return\n",
    "    if start == end:\n",
    "        print(\"There is no prime numbers in this range\")\n",
    "        return\n",
    "    \n",
    "    primes = []\n",
    "    for num in range(start, end + 1):\n",
    "        if num > 1:\n",
    "            is_prime = True\n",
    "            for i in range(2, int(num ** 0.5) + 1):\n",
    "                if num % i == 0:\n",
    "                    is_prime = False\n",
    "                    break\n",
    "            if is_prime:\n",
    "                primes.append(num)\n",
    "    \n",
    "    if not primes:\n",
    "        print(\"There is no prime numbers in this range\")\n",
    "    else:\n",
    "        print(\"\".join(map(str, primes)))\n",
    "\n",
    "start = int(input(\"Enter start number: \"))\n",
    "end = int(input(\"Enter end number: \"))\n",
    "find_prime(start, end)\n"
   ]
  }
 ],
 "metadata": {
  "kernelspec": {
   "display_name": "Python [conda env:base] *",
   "language": "python",
   "name": "conda-base-py"
  },
  "language_info": {
   "codemirror_mode": {
    "name": "ipython",
    "version": 3
   },
   "file_extension": ".py",
   "mimetype": "text/x-python",
   "name": "python",
   "nbconvert_exporter": "python",
   "pygments_lexer": "ipython3",
   "version": "3.12.7"
  }
 },
 "nbformat": 4,
 "nbformat_minor": 5
}
