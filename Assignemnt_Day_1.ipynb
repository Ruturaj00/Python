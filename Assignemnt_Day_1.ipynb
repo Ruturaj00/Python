{
 "cells": [
  {
   "cell_type": "code",
   "execution_count": null,
   "id": "9b9e15dc-6a17-4f36-a4f7-04d6ba388824",
   "metadata": {},
   "outputs": [],
   "source": [
    "#Assignment 1 Type Casting\n",
    "\n",
    "\n",
    "#for boolean complex data typenot supported\n",
    "print(bool(22 + 2i\n",
    "          \n",
    "#cannot convert complex to int \n",
    "print(int(1+5i))\n",
    "           \n",
    "#cannot convert string to int\n",
    "print(int(\"Ruturaj\"))\n",
    "\n",
    "#cannot convert String to float\n",
    "print(float(\"abc\"))\n",
    "\n",
    "#cannot convert complex to float \n",
    "print(float(1+2j))\n",
    "\n",
    "#cannot convert String  to float\n",
    "print(float(\"Ruturaj\"))\n",
    "# This will give error unable to convert"
   ]
  },
  {
   "cell_type": "code",
   "execution_count": 13,
   "id": "4eb6ec93-2d6e-46e3-8151-c327d26a2d62",
   "metadata": {},
   "outputs": [
    {
     "name": "stdin",
     "output_type": "stream",
     "text": [
      "Enter EMP Name :  Ruturaj\n",
      "Enter ID: 101\n",
      "Enter Designation:  GET\n",
      "Enter Your salary:  25000\n"
     ]
    },
    {
     "name": "stdout",
     "output_type": "stream",
     "text": [
      "Hello, Ruturaj!!! Your Employee Id is 101. Your Designation is GET and Your salary is 25000.0\n"
     ]
    },
    {
     "name": "stdin",
     "output_type": "stream",
     "text": [
      "Enter name, ID, Designation and Salary:   Ruturaj 102 GET 9087\n"
     ]
    },
    {
     "name": "stdout",
     "output_type": "stream",
     "text": [
      "Hello, Ruturaj!! Your id is 102, Designation is GET, and salary is 9087\n"
     ]
    }
   ],
   "source": [
    "#Employee Information Print\n",
    "\n",
    "name=input(\"Enter EMP Name : \")\n",
    "empid=input(\"Enter ID:\" )\n",
    "desig=input(\"Enter Designation: \")\n",
    "salary=float(input(\"Enter Your salary: \"))\n",
    "\n",
    "print(\"Hello, {0}!!! Your Employee Id is {1}. Your Designation is {2} and Your salary is {3}\"\n",
    "      .format(name,empid,desig,salary))\n",
    "\n",
    "namee,empidd,desige,salaryy= input(\"Enter name, ID, Designation and Salary:  \").split()\n",
    "\n",
    "print(f\"Hello, {namee}!! Your id is {empidd}, Designation is {desige}, and salary is {salaryy}\")"
   ]
  },
  {
   "cell_type": "code",
   "execution_count": 15,
   "id": "61ae378f-3227-40d7-9532-83b6d74fc279",
   "metadata": {},
   "outputs": [
    {
     "name": "stdin",
     "output_type": "stream",
     "text": [
      "Enter the multiple values as you want :  10 20 30 40 50\n"
     ]
    },
    {
     "name": "stdout",
     "output_type": "stream",
     "text": [
      "Values that you entered :  ['10', '20', '30', '40', '50']\n"
     ]
    }
   ],
   "source": [
    "#Read Multiple values Also \n",
    "values = input(\"Enter the multiple values as you want : \").split()\n",
    "print(\"Values that you entered : \", values)"
   ]
  },
  {
   "cell_type": "code",
   "execution_count": 19,
   "id": "2890150d-a93c-4490-bcc6-72a3d769565b",
   "metadata": {},
   "outputs": [
    {
     "name": "stdin",
     "output_type": "stream",
     "text": [
      "Enter your age : 40\n",
      "Enter your annual income :  500000\n"
     ]
    },
    {
     "name": "stdout",
     "output_type": "stream",
     "text": [
      "your income tax is : 50000.0 Rs\n"
     ]
    }
   ],
   "source": [
    "#Calculate Income Tax\n",
    "\n",
    "age = int(input(\"Enter your age :\"))\n",
    "if age < 18 or age > 100:\n",
    "    print(\"Invalid Age\")\n",
    "else:\n",
    "    income = float(input(\"Enter your annual income : \"))\n",
    "    if income < 0:\n",
    "        print(\"Invalid Income\")\n",
    "    else:\n",
    "        tax=0\n",
    "        if age <= 60:\n",
    "            if income <= 250000:\n",
    "                tax=0\n",
    "            elif income <= 500000:\n",
    "                tax =0.1*income\n",
    "            elif income <= 1000000:\n",
    "                tax =0.2*income\n",
    "            else:\n",
    "                tax = 0.3 * income\n",
    "        elif age <= 80:\n",
    "            if income <= 300000:\n",
    "                tax=0\n",
    "            elif income <= 500000:\n",
    "                tax =0.1*income\n",
    "            elif income <= 1000000:\n",
    "                tax =0.2*income\n",
    "            else:\n",
    "                tax = 0.3 * income\n",
    "        else:\n",
    "            if income <= 500000:\n",
    "                tax =0\n",
    "            elif income <= 1000000:\n",
    "                tax = 0.2 * income\n",
    "            else:\n",
    "                tax = 0.3*income\n",
    "print(f\"your income tax is : {tax} Rs\")"
   ]
  },
  {
   "cell_type": "code",
   "execution_count": 21,
   "id": "155296b4-b2e4-4336-946f-58fbfb8bc30a",
   "metadata": {},
   "outputs": [
    {
     "name": "stdin",
     "output_type": "stream",
     "text": [
      "Enter the number of student details to be created:  3\n",
      "Name:  Ruturaj\n",
      "Age:  14\n",
      "Location:  Pune\n",
      "Name:  Supreet\n",
      "Age:  15\n",
      "Location:  Pune\n",
      "Name:  Sushil\n",
      "Age:  17\n",
      "Location:  Pune\n"
     ]
    },
    {
     "name": "stdout",
     "output_type": "stream",
     "text": [
      "\n",
      "Here's the list of student details:\n",
      "{'Name': 'Ruturaj', 'Age': 14, 'Location': 'Pune'}\n",
      "{'Name': 'Supreet', 'Age': 15, 'Location': 'Pune'}\n",
      "{'Name': 'Sushil', 'Age': 17, 'Location': 'Pune'}\n"
     ]
    },
    {
     "name": "stdin",
     "output_type": "stream",
     "text": [
      "\n",
      "Enter the training location:  Pune\n"
     ]
    },
    {
     "name": "stdout",
     "output_type": "stream",
     "text": [
      "\n",
      "Student(s) enrolled in this training location:\n",
      "Ruturaj\n",
      "Supreet\n",
      "Sushil\n"
     ]
    }
   ],
   "source": [
    "#Student Information\n",
    "\n",
    "students = []\n",
    "n = int(input(\"Enter the number of student details to be created: \"))\n",
    "if n <= 0:\n",
    "    print(\"Invalid Input\")\n",
    "    exit()\n",
    "\n",
    "\n",
    "for _ in range(n):\n",
    "    name = input(\"Name: \").strip()\n",
    "    age = int(input(\"Age: \"))\n",
    "    if age <= 10 or age > 20:\n",
    "        print(\"Invalid Input\")\n",
    "        exit()\n",
    "    location = input(\"Location: \").strip()\n",
    "    students.append({\"Name\": name, \"Age\": age, \"Location\": location})\n",
    "\n",
    "\n",
    "print(\"\\nHere's the list of student details:\")\n",
    "for student in students:\n",
    "    print(student)\n",
    "\n",
    "\n",
    "search_location = input(\"\\nEnter the training location: \").strip()\n",
    "matching_students = [student[\"Name\"] for student in students if student[\"Location\"] == search_location]\n",
    "\n",
    "if matching_students:\n",
    "    print(\"\\nStudent(s) enrolled in this training location:\")\n",
    "    print(\"\\n\".join(matching_students))\n",
    "else:\n",
    "    print(\"Invalid location\")\n"
   ]
  },
  {
   "cell_type": "code",
   "execution_count": null,
   "id": "3de7cbbc-3c5e-46f3-9bf3-d60907ce1dbf",
   "metadata": {},
   "outputs": [],
   "source": []
  },
  {
   "cell_type": "code",
   "execution_count": null,
   "id": "22c76f10-9361-4378-a0ba-245814a6da80",
   "metadata": {},
   "outputs": [],
   "source": []
  }
 ],
 "metadata": {
  "kernelspec": {
   "display_name": "Python [conda env:base] *",
   "language": "python",
   "name": "conda-base-py"
  },
  "language_info": {
   "codemirror_mode": {
    "name": "ipython",
    "version": 3
   },
   "file_extension": ".py",
   "mimetype": "text/x-python",
   "name": "python",
   "nbconvert_exporter": "python",
   "pygments_lexer": "ipython3",
   "version": "3.12.7"
  }
 },
 "nbformat": 4,
 "nbformat_minor": 5
}
